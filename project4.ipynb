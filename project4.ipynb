{
 "cells": [
  {
   "cell_type": "markdown",
   "metadata": {},
   "source": [
    "---\n",
    "# Molecular cloud collapse\n",
    "---"
   ]
  },
  {
   "cell_type": "markdown",
   "metadata": {},
   "source": [
    "### Simulation setup\n",
    "I ran two simulation of a molecular cloud to observe the eventual formation of protostellar cores where star formation will possibly take place. \n",
    "For the first simulation I assumed the isothermal equation of state for the gas, while for the second I assumed the gas to be adiabatic. \n",
    "\n",
    "In both cases the cloud is spherical and marginally bound, with uniform initial density and temperature. The initial temperature of 10 K is typical for a molecular cloud far from the galaxy center, where no significant heating from the external environment is present. The cloud is characterized by a divergence-free Gaussian random velocity field, generated according to the the Burger's turbulence power spectrum: \n",
    "P(k) $\\propto$ k$^{-4}$. No further sources of turbulence are switched on during the simulation. \n",
    "\n",
    "cloud parametres        |                          |                       |  \n",
    ":----------------------------|:-------------------:|:---------------------:|\n",
    "total mass                   | M  \\[M$_{\\odot}$\\]  |    4.3$\\,\\cdot\\,$10$^{4}$ |  \n",
    "cloud radius                 | R  \\[pc\\]           |   10         |  \n",
    "initial temperature          | T  \\[K\\]            |   10         |\n",
    "initial number density       | n \\[cm$^{-3}$\\]     |   168.85     |\n",
    "metallicity               |   Z                  | 0.02\n",
    "mean molecular weight     | $\\mu$               |   2.45       |\n",
    "\n",
    "\n",
    "The cloud is built with N = 10$^4$ unphysical gas particles of equal mass and the simulation is run with the Gasoline code, which uses a SPH algorithm for gas treatment. No subgrid physics and sink particles are included. Both the smoothing length and softening length are taken as the radius of the sphere that contains 64 neighbor particles. The reference frame is initially at rest with the cloud and with origin in its center of mass.\n",
    "\n",
    "simulation parametres        |                         |                       |  \n",
    ":----------------------------|:-----------------------:|:---------------------:|\n",
    "number of particles          | N                       |    10$^4$                  |\n",
    "mass resolution              | m \\[M$_\\odot$ \\]        |    137.6                   |\n",
    "total integration time       | t  \\[Myr\\]              |   4         | "
   ]
  },
  {
   "cell_type": "markdown",
   "metadata": {},
   "source": [
    "### Evolution of the cloud density\n",
    "\n",
    "Adiabatic cloud | Isothermal cloud\n",
    ":---: | :---:  \n",
    "![alt](densplot_ad_mass.png) | ![alt](densplot_isoB_mass.png) \n",
    "\n",
    "\n",
    "**Figure 1:** Contour plot showing the evolution in time of the amount of gas mass having a certain number density. "
   ]
  },
  {
   "cell_type": "markdown",
   "metadata": {},
   "source": [
    "#### Adiabatic cloud\n",
    "Some higher density clumps of gas started to form in the adiabatic cloud but around $t\\sim$ 1.5 Myr the gas began to expand and the higher density perturbations were almost entirely erased  by the end of the simulation (**Fig.1**). \n",
    "In fact, for an adiabatic gas, the areas where the density increases also see a significant rise in temperature (over 10$^3$ K in this case) and pressure, which eventually overcomes the gravitational force and reverses the collapse. \n",
    "\n",
    "This behavior doesn't necessarily reflect the evolution of a real molecular cloud, where dust and molecular cooling become more effective as the gas temperature rises above 10 K, with the effect of lowering it again and allowing the collapse to proceed.\n",
    "\n",
    "#### Isothermal cloud\n",
    "In the case of the isothermal cloud, the higer density perturbations created by the turbulent velocity field became unstable in a few different areas and rapidly collapsed around $t\\sim2.4$ (**Fig.1**). This led to the formation of structures of number density  $n>10^5 cm^{-3}$ towards the center of the cloud, which are also visible in **Mov.1**. By the end of the simulation most of these structures had merged into two rotating disks with number density  $n\\sim10^{12} cm^{-3}$, located close to the center of the cloud and accreting gas from the surrounding area (**Fig.2**).\n",
    "The gas density is high enough for star formation to take place in this area but the mass resolution of the simulation is too low to observe it and moreover the code doesn't include sink particles. \n",
    "\n",
    "Towards the end of the simulation two clumps of higher density gas are ejected in opposite directions from the center of the cloud towards the lower density exterior (visible in **Mov.1** ). The interface between the higher and lower density gas is expected to be unstable, however this is not observed in the simulation because SPH codes don't capture well the physics at the interface between fluids of different density because the resolution for the lower density fluid becomes too low. "
   ]
  },
  {
   "cell_type": "markdown",
   "metadata": {},
   "source": [
    "<img src='isothermalB.gif' width=\"750\"/>\n",
    "\n",
    "**Movie 1:** Evolution of the number density of the cloud, projected along the y axis"
   ]
  },
  {
   "cell_type": "markdown",
   "metadata": {},
   "source": [
    "<tr>\n",
    "<td> <img src=\"disk_xy.png\" style=\"width: 450px;\"/> </td>\n",
    "<td> <img src=\"disk_xz.png\" style=\"width: 450px;\"/> </td>\n",
    "</tr>"
   ]
  },
  {
   "cell_type": "markdown",
   "metadata": {},
   "source": [
    "**Fig.2:** Number density of the disk at the center of the cloud, projected along the z axis (left) and the y axis (right). Distances are in *pc*."
   ]
  },
  {
   "cell_type": "markdown",
   "metadata": {},
   "source": [
    "---\n",
    "## CODE\n",
    "\n",
    "- The initial conditions file is written with [make_cloud.py](make_cloud.py) \n",
    "- The contur plot for the evolution of the number density in time is obtained with the script [n_t_contour.py](n_t_contour.py), which reads the density of each gas particle at all time-steps from the Gasoline output files."
   ]
  },
  {
   "cell_type": "code",
   "execution_count": null,
   "metadata": {},
   "outputs": [],
   "source": []
  }
 ],
 "metadata": {
  "kernelspec": {
   "display_name": "Python 3",
   "language": "python",
   "name": "python3"
  },
  "language_info": {
   "codemirror_mode": {
    "name": "ipython",
    "version": 3
   },
   "file_extension": ".py",
   "mimetype": "text/x-python",
   "name": "python",
   "nbconvert_exporter": "python",
   "pygments_lexer": "ipython3",
   "version": "3.8.2"
  }
 },
 "nbformat": 4,
 "nbformat_minor": 4
}
